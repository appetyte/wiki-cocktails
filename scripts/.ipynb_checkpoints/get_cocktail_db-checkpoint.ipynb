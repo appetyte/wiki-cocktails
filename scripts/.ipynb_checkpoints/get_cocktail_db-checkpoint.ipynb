{
 "cells": [
  {
   "cell_type": "code",
   "execution_count": 13,
   "metadata": {},
   "outputs": [],
   "source": [
    "import requests;\n",
    "import json;"
   ]
  },
  {
   "cell_type": "code",
   "execution_count": 2,
   "metadata": {},
   "outputs": [],
   "source": [
    "data = requests.get(\"http://www.thecocktaildb.com/api/json/v1/1/list.php?c=list\")"
   ]
  },
  {
   "cell_type": "code",
   "execution_count": 3,
   "metadata": {},
   "outputs": [
    {
     "data": {
      "text/plain": [
       "[{'strCategory': 'Ordinary Drink'},\n",
       " {'strCategory': 'Cocktail'},\n",
       " {'strCategory': 'Milk / Float / Shake'},\n",
       " {'strCategory': 'Other/Unknown'},\n",
       " {'strCategory': 'Cocoa'},\n",
       " {'strCategory': 'Shot'},\n",
       " {'strCategory': 'Coffee / Tea'},\n",
       " {'strCategory': 'Homemade Liqueur'},\n",
       " {'strCategory': 'Punch / Party Drink'},\n",
       " {'strCategory': 'Beer'},\n",
       " {'strCategory': 'Soft Drink / Soda'}]"
      ]
     },
     "execution_count": 3,
     "metadata": {},
     "output_type": "execute_result"
    }
   ],
   "source": [
    "data.json()['drinks']"
   ]
  },
  {
   "cell_type": "code",
   "execution_count": 4,
   "metadata": {},
   "outputs": [],
   "source": [
    "categoryList = list(map(lambda category: category['strCategory'], data.json()['drinks']))"
   ]
  },
  {
   "cell_type": "code",
   "execution_count": 5,
   "metadata": {},
   "outputs": [
    {
     "data": {
      "text/plain": [
       "['Ordinary Drink',\n",
       " 'Cocktail',\n",
       " 'Milk / Float / Shake',\n",
       " 'Other/Unknown',\n",
       " 'Cocoa',\n",
       " 'Shot',\n",
       " 'Coffee / Tea',\n",
       " 'Homemade Liqueur',\n",
       " 'Punch / Party Drink',\n",
       " 'Beer',\n",
       " 'Soft Drink / Soda']"
      ]
     },
     "execution_count": 5,
     "metadata": {},
     "output_type": "execute_result"
    }
   ],
   "source": [
    "categoryList"
   ]
  },
  {
   "cell_type": "code",
   "execution_count": 6,
   "metadata": {},
   "outputs": [
    {
     "data": {
      "text/plain": [
       "['Ordinary_Drink',\n",
       " 'Cocktail',\n",
       " 'Milk_/_Float_/_Shake',\n",
       " 'Other/Unknown',\n",
       " 'Cocoa',\n",
       " 'Shot',\n",
       " 'Coffee_/_Tea',\n",
       " 'Homemade_Liqueur',\n",
       " 'Punch_/_Party_Drink',\n",
       " 'Beer',\n",
       " 'Soft_Drink_/_Soda']"
      ]
     },
     "execution_count": 6,
     "metadata": {},
     "output_type": "execute_result"
    }
   ],
   "source": [
    "categoryList = list(map(lambda cat: cat.replace(\" \", \"_\"), categoryList))\n",
    "categoryList"
   ]
  },
  {
   "cell_type": "code",
   "execution_count": 7,
   "metadata": {},
   "outputs": [],
   "source": [
    "drinkList = [];\n",
    "for category in categoryList:\n",
    "    data = requests.get(\"http://www.thecocktaildb.com/api/json/v1/1/filter.php?c=\" + category)\n",
    "    drinkList.extend(data.json()[\"drinks\"])"
   ]
  },
  {
   "cell_type": "code",
   "execution_count": 8,
   "metadata": {},
   "outputs": [],
   "source": [
    "drinkSet = set(map(lambda drink: drink[\"idDrink\"], drinkList))"
   ]
  },
  {
   "cell_type": "code",
   "execution_count": 9,
   "metadata": {},
   "outputs": [],
   "source": [
    "drinkList = [];\n",
    "for drink_id in drinkSet:\n",
    "    data = requests.get(\"http://www.thecocktaildb.com/api/json/v1/1/lookup.php?i=\" + drink_id)\n",
    "    drinkList.extend(data.json()[\"drinks\"])"
   ]
  },
  {
   "cell_type": "code",
   "execution_count": 11,
   "metadata": {},
   "outputs": [],
   "source": [
    "# f = open('../json/cocktail_db.json', 'w')\n",
    "# for drink in drinkList:\n",
    "#     f.write(str(drink).replace('\\\\n','') + '\\n')\n",
    "# f.close();"
   ]
  },
  {
   "cell_type": "code",
   "execution_count": 15,
   "metadata": {},
   "outputs": [],
   "source": [
    "data = {};\n",
    "for drink in drinkList:\n",
    "    data[drink['idDrink']] = drink;\n",
    "with open('tempOutput.json', 'w') as outfile:\n",
    "    json.dump(data, outfile)"
   ]
  },
  {
   "cell_type": "code",
   "execution_count": null,
   "metadata": {},
   "outputs": [],
   "source": []
  }
 ],
 "metadata": {
  "kernelspec": {
   "display_name": "Python 3",
   "language": "python",
   "name": "python3"
  },
  "language_info": {
   "codemirror_mode": {
    "name": "ipython",
    "version": 3
   },
   "file_extension": ".py",
   "mimetype": "text/x-python",
   "name": "python",
   "nbconvert_exporter": "python",
   "pygments_lexer": "ipython3",
   "version": "3.6.4"
  }
 },
 "nbformat": 4,
 "nbformat_minor": 2
}
